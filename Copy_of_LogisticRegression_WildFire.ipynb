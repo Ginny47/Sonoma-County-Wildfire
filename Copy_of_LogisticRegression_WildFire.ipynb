{
  "nbformat": 4,
  "nbformat_minor": 0,
  "metadata": {
    "colab": {
      "name": "Copy of LogisticRegression_WildFire.ipynb",
      "provenance": [],
      "collapsed_sections": [],
      "include_colab_link": true
    },
    "kernelspec": {
      "name": "python3",
      "display_name": "Python 3"
    }
  },
  "cells": [
    {
      "cell_type": "markdown",
      "metadata": {
        "id": "view-in-github",
        "colab_type": "text"
      },
      "source": [
        "<a href=\"https://colab.research.google.com/github/Ginny47/Sonoma-County-Wildfire/blob/main/Copy_of_LogisticRegression_WildFire.ipynb\" target=\"_parent\"><img src=\"https://colab.research.google.com/assets/colab-badge.svg\" alt=\"Open In Colab\"/></a>"
      ]
    },
    {
      "cell_type": "code",
      "metadata": {
        "id": "vm7hWAJncXJI",
        "outputId": "3178ff87-edd5-429b-b6c5-2a0c42db38cd",
        "colab": {
          "base_uri": "https://localhost:8080/",
          "height": 71
        }
      },
      "source": [
        "import numpy as np\n",
        "import pandas as pd\n",
        "import tensorflow as tf\n",
        "from sklearn.model_selection import train_test_split\n",
        "from sklearn.preprocessing import StandardScaler\n",
        "from sklearn.linear_model import LogisticRegression\n",
        "from sklearn.metrics import mean_absolute_error\n",
        "from sklearn.pipeline import Pipeline\n",
        "from sklearn.metrics import roc_curve, roc_auc_score, classification_report, accuracy_score, confusion_matrix \n",
        "import seaborn as sns\n",
        "import matplotlib.pyplot as plt\n",
        "\n",
        "# Input data files are available in the \"../input/\" directory.\n",
        "# For example, running this (by clicking run or pressing Shift+Enter) will list the files in the input directory\n",
        "\n",
        "data1 = pd.read_csv('Weather_FireHistory_Train3.csv')"
      ],
      "execution_count": null,
      "outputs": [
        {
          "output_type": "stream",
          "text": [
            "/usr/local/lib/python3.6/dist-packages/statsmodels/tools/_testing.py:19: FutureWarning: pandas.util.testing is deprecated. Use the functions in the public API at pandas.testing instead.\n",
            "  import pandas.util.testing as tm\n"
          ],
          "name": "stderr"
        }
      ]
    },
    {
      "cell_type": "code",
      "metadata": {
        "id": "qc-K3Tf0hJdV",
        "outputId": "96993391-6224-49e5-ea4a-422d3139f083",
        "colab": {
          "base_uri": "https://localhost:8080/",
          "height": 306
        }
      },
      "source": [
        "data1.info()"
      ],
      "execution_count": null,
      "outputs": [
        {
          "output_type": "stream",
          "text": [
            "<class 'pandas.core.frame.DataFrame'>\n",
            "RangeIndex: 8109 entries, 0 to 8108\n",
            "Data columns (total 10 columns):\n",
            " #   Column      Non-Null Count  Dtype  \n",
            "---  ------      --------------  -----  \n",
            " 0   DailyAvgDr  8109 non-null   float64\n",
            " 1   DailyAvgPr  8109 non-null   float64\n",
            " 2   DailyAvgRe  8109 non-null   float64\n",
            " 3   DailyAvgHo  8109 non-null   float64\n",
            " 4   LongLat_X   8109 non-null   float64\n",
            " 5   LongLat_Y   8109 non-null   float64\n",
            " 6   FireEvent   8109 non-null   int64  \n",
            " 7   Year        8109 non-null   int64  \n",
            " 8   Month       8109 non-null   int64  \n",
            " 9   Day         8109 non-null   int64  \n",
            "dtypes: float64(6), int64(4)\n",
            "memory usage: 633.6 KB\n"
          ],
          "name": "stdout"
        }
      ]
    },
    {
      "cell_type": "code",
      "metadata": {
        "id": "_NF6GrFFhJwG",
        "outputId": "31520932-23a8-4303-f98a-cf7b063da2cf",
        "colab": {
          "base_uri": "https://localhost:8080/",
          "height": 204
        }
      },
      "source": [
        "data1.head()"
      ],
      "execution_count": null,
      "outputs": [
        {
          "output_type": "execute_result",
          "data": {
            "text/html": [
              "<div>\n",
              "<style scoped>\n",
              "    .dataframe tbody tr th:only-of-type {\n",
              "        vertical-align: middle;\n",
              "    }\n",
              "\n",
              "    .dataframe tbody tr th {\n",
              "        vertical-align: top;\n",
              "    }\n",
              "\n",
              "    .dataframe thead th {\n",
              "        text-align: right;\n",
              "    }\n",
              "</style>\n",
              "<table border=\"1\" class=\"dataframe\">\n",
              "  <thead>\n",
              "    <tr style=\"text-align: right;\">\n",
              "      <th></th>\n",
              "      <th>DailyAvgDr</th>\n",
              "      <th>DailyAvgPr</th>\n",
              "      <th>DailyAvgRe</th>\n",
              "      <th>DailyAvgHo</th>\n",
              "      <th>LongLat_X</th>\n",
              "      <th>LongLat_Y</th>\n",
              "      <th>FireEvent</th>\n",
              "      <th>Year</th>\n",
              "      <th>Month</th>\n",
              "      <th>Day</th>\n",
              "    </tr>\n",
              "  </thead>\n",
              "  <tbody>\n",
              "    <tr>\n",
              "      <th>0</th>\n",
              "      <td>52.33</td>\n",
              "      <td>0.01</td>\n",
              "      <td>98.90</td>\n",
              "      <td>0.92</td>\n",
              "      <td>-122.8102</td>\n",
              "      <td>38.5038</td>\n",
              "      <td>0</td>\n",
              "      <td>2010</td>\n",
              "      <td>1</td>\n",
              "      <td>1</td>\n",
              "    </tr>\n",
              "    <tr>\n",
              "      <th>1</th>\n",
              "      <td>48.65</td>\n",
              "      <td>0.00</td>\n",
              "      <td>95.12</td>\n",
              "      <td>3.90</td>\n",
              "      <td>-122.8102</td>\n",
              "      <td>38.5038</td>\n",
              "      <td>0</td>\n",
              "      <td>2010</td>\n",
              "      <td>1</td>\n",
              "      <td>2</td>\n",
              "    </tr>\n",
              "    <tr>\n",
              "      <th>2</th>\n",
              "      <td>41.05</td>\n",
              "      <td>0.00</td>\n",
              "      <td>96.71</td>\n",
              "      <td>1.22</td>\n",
              "      <td>-122.8102</td>\n",
              "      <td>38.5038</td>\n",
              "      <td>0</td>\n",
              "      <td>2010</td>\n",
              "      <td>1</td>\n",
              "      <td>3</td>\n",
              "    </tr>\n",
              "    <tr>\n",
              "      <th>3</th>\n",
              "      <td>43.59</td>\n",
              "      <td>0.00</td>\n",
              "      <td>96.48</td>\n",
              "      <td>1.93</td>\n",
              "      <td>-122.8102</td>\n",
              "      <td>38.5038</td>\n",
              "      <td>0</td>\n",
              "      <td>2010</td>\n",
              "      <td>1</td>\n",
              "      <td>4</td>\n",
              "    </tr>\n",
              "    <tr>\n",
              "      <th>4</th>\n",
              "      <td>43.04</td>\n",
              "      <td>0.00</td>\n",
              "      <td>96.88</td>\n",
              "      <td>0.95</td>\n",
              "      <td>-122.8102</td>\n",
              "      <td>38.5038</td>\n",
              "      <td>0</td>\n",
              "      <td>2010</td>\n",
              "      <td>1</td>\n",
              "      <td>5</td>\n",
              "    </tr>\n",
              "  </tbody>\n",
              "</table>\n",
              "</div>"
            ],
            "text/plain": [
              "   DailyAvgDr  DailyAvgPr  DailyAvgRe  DailyAvgHo  ...  FireEvent  Year  Month  Day\n",
              "0       52.33        0.01       98.90        0.92  ...          0  2010      1    1\n",
              "1       48.65        0.00       95.12        3.90  ...          0  2010      1    2\n",
              "2       41.05        0.00       96.71        1.22  ...          0  2010      1    3\n",
              "3       43.59        0.00       96.48        1.93  ...          0  2010      1    4\n",
              "4       43.04        0.00       96.88        0.95  ...          0  2010      1    5\n",
              "\n",
              "[5 rows x 10 columns]"
            ]
          },
          "metadata": {
            "tags": []
          },
          "execution_count": 3
        }
      ]
    },
    {
      "cell_type": "code",
      "metadata": {
        "id": "1W9P24GyhRMC",
        "outputId": "1b6ae455-61e6-481e-b54a-a0ab67205d04",
        "colab": {
          "base_uri": "https://localhost:8080/",
          "height": 68
        }
      },
      "source": [
        "data1.columns"
      ],
      "execution_count": null,
      "outputs": [
        {
          "output_type": "execute_result",
          "data": {
            "text/plain": [
              "Index(['DailyAvgDr', 'DailyAvgPr', 'DailyAvgRe', 'DailyAvgHo', 'LongLat_X',\n",
              "       'LongLat_Y', 'FireEvent', 'Year', 'Month', 'Day'],\n",
              "      dtype='object')"
            ]
          },
          "metadata": {
            "tags": []
          },
          "execution_count": 4
        }
      ]
    },
    {
      "cell_type": "code",
      "metadata": {
        "id": "WdarG3GOhRVM",
        "outputId": "db911956-9485-4e6f-a9e7-645fccac5f65",
        "colab": {
          "base_uri": "https://localhost:8080/",
          "height": 204
        }
      },
      "source": [
        "data1.isnull().sum()"
      ],
      "execution_count": null,
      "outputs": [
        {
          "output_type": "execute_result",
          "data": {
            "text/plain": [
              "DailyAvgDr    0\n",
              "DailyAvgPr    0\n",
              "DailyAvgRe    0\n",
              "DailyAvgHo    0\n",
              "LongLat_X     0\n",
              "LongLat_Y     0\n",
              "FireEvent     0\n",
              "Year          0\n",
              "Month         0\n",
              "Day           0\n",
              "dtype: int64"
            ]
          },
          "metadata": {
            "tags": []
          },
          "execution_count": 5
        }
      ]
    },
    {
      "cell_type": "code",
      "metadata": {
        "id": "vm-82fhmhRYv",
        "outputId": "b55139b7-77f6-44e4-e297-2e16ade24d68",
        "colab": {
          "base_uri": "https://localhost:8080/",
          "height": 34
        }
      },
      "source": [
        "data1.size"
      ],
      "execution_count": null,
      "outputs": [
        {
          "output_type": "execute_result",
          "data": {
            "text/plain": [
              "81090"
            ]
          },
          "metadata": {
            "tags": []
          },
          "execution_count": 6
        }
      ]
    },
    {
      "cell_type": "code",
      "metadata": {
        "id": "7154SCjahRfA",
        "outputId": "05f2d024-d544-41ff-9fef-06b9694e8ce1",
        "colab": {
          "base_uri": "https://localhost:8080/",
          "height": 359
        }
      },
      "source": [
        "data1.corr()"
      ],
      "execution_count": null,
      "outputs": [
        {
          "output_type": "execute_result",
          "data": {
            "text/html": [
              "<div>\n",
              "<style scoped>\n",
              "    .dataframe tbody tr th:only-of-type {\n",
              "        vertical-align: middle;\n",
              "    }\n",
              "\n",
              "    .dataframe tbody tr th {\n",
              "        vertical-align: top;\n",
              "    }\n",
              "\n",
              "    .dataframe thead th {\n",
              "        text-align: right;\n",
              "    }\n",
              "</style>\n",
              "<table border=\"1\" class=\"dataframe\">\n",
              "  <thead>\n",
              "    <tr style=\"text-align: right;\">\n",
              "      <th></th>\n",
              "      <th>DailyAvgDr</th>\n",
              "      <th>DailyAvgPr</th>\n",
              "      <th>DailyAvgRe</th>\n",
              "      <th>DailyAvgHo</th>\n",
              "      <th>LongLat_X</th>\n",
              "      <th>LongLat_Y</th>\n",
              "      <th>FireEvent</th>\n",
              "      <th>Year</th>\n",
              "      <th>Month</th>\n",
              "      <th>Day</th>\n",
              "    </tr>\n",
              "  </thead>\n",
              "  <tbody>\n",
              "    <tr>\n",
              "      <th>DailyAvgDr</th>\n",
              "      <td>1.000000</td>\n",
              "      <td>-0.097284</td>\n",
              "      <td>-0.478137</td>\n",
              "      <td>0.305932</td>\n",
              "      <td>0.111731</td>\n",
              "      <td>0.009175</td>\n",
              "      <td>0.099489</td>\n",
              "      <td>0.061868</td>\n",
              "      <td>0.125739</td>\n",
              "      <td>-0.018959</td>\n",
              "    </tr>\n",
              "    <tr>\n",
              "      <th>DailyAvgPr</th>\n",
              "      <td>-0.097284</td>\n",
              "      <td>1.000000</td>\n",
              "      <td>0.136290</td>\n",
              "      <td>0.241580</td>\n",
              "      <td>0.099250</td>\n",
              "      <td>0.144034</td>\n",
              "      <td>-0.016212</td>\n",
              "      <td>-0.010956</td>\n",
              "      <td>-0.040272</td>\n",
              "      <td>-0.004054</td>\n",
              "    </tr>\n",
              "    <tr>\n",
              "      <th>DailyAvgRe</th>\n",
              "      <td>-0.478137</td>\n",
              "      <td>0.136290</td>\n",
              "      <td>1.000000</td>\n",
              "      <td>-0.368832</td>\n",
              "      <td>-0.395481</td>\n",
              "      <td>-0.320844</td>\n",
              "      <td>-0.148169</td>\n",
              "      <td>-0.034505</td>\n",
              "      <td>-0.060914</td>\n",
              "      <td>0.012589</td>\n",
              "    </tr>\n",
              "    <tr>\n",
              "      <th>DailyAvgHo</th>\n",
              "      <td>0.305932</td>\n",
              "      <td>0.241580</td>\n",
              "      <td>-0.368832</td>\n",
              "      <td>1.000000</td>\n",
              "      <td>0.309428</td>\n",
              "      <td>0.049129</td>\n",
              "      <td>-0.006400</td>\n",
              "      <td>0.117393</td>\n",
              "      <td>-0.087249</td>\n",
              "      <td>0.002612</td>\n",
              "    </tr>\n",
              "    <tr>\n",
              "      <th>LongLat_X</th>\n",
              "      <td>0.111731</td>\n",
              "      <td>0.099250</td>\n",
              "      <td>-0.395481</td>\n",
              "      <td>0.309428</td>\n",
              "      <td>1.000000</td>\n",
              "      <td>0.067291</td>\n",
              "      <td>0.070887</td>\n",
              "      <td>0.265003</td>\n",
              "      <td>0.022930</td>\n",
              "      <td>0.001084</td>\n",
              "    </tr>\n",
              "    <tr>\n",
              "      <th>LongLat_Y</th>\n",
              "      <td>0.009175</td>\n",
              "      <td>0.144034</td>\n",
              "      <td>-0.320844</td>\n",
              "      <td>0.049129</td>\n",
              "      <td>0.067291</td>\n",
              "      <td>1.000000</td>\n",
              "      <td>0.054012</td>\n",
              "      <td>-0.216034</td>\n",
              "      <td>-0.018005</td>\n",
              "      <td>-0.000905</td>\n",
              "    </tr>\n",
              "    <tr>\n",
              "      <th>FireEvent</th>\n",
              "      <td>0.099489</td>\n",
              "      <td>-0.016212</td>\n",
              "      <td>-0.148169</td>\n",
              "      <td>-0.006400</td>\n",
              "      <td>0.070887</td>\n",
              "      <td>0.054012</td>\n",
              "      <td>1.000000</td>\n",
              "      <td>0.064226</td>\n",
              "      <td>0.095569</td>\n",
              "      <td>0.026620</td>\n",
              "    </tr>\n",
              "    <tr>\n",
              "      <th>Year</th>\n",
              "      <td>0.061868</td>\n",
              "      <td>-0.010956</td>\n",
              "      <td>-0.034505</td>\n",
              "      <td>0.117393</td>\n",
              "      <td>0.265003</td>\n",
              "      <td>-0.216034</td>\n",
              "      <td>0.064226</td>\n",
              "      <td>1.000000</td>\n",
              "      <td>-0.003064</td>\n",
              "      <td>0.000918</td>\n",
              "    </tr>\n",
              "    <tr>\n",
              "      <th>Month</th>\n",
              "      <td>0.125739</td>\n",
              "      <td>-0.040272</td>\n",
              "      <td>-0.060914</td>\n",
              "      <td>-0.087249</td>\n",
              "      <td>0.022930</td>\n",
              "      <td>-0.018005</td>\n",
              "      <td>0.095569</td>\n",
              "      <td>-0.003064</td>\n",
              "      <td>1.000000</td>\n",
              "      <td>0.008183</td>\n",
              "    </tr>\n",
              "    <tr>\n",
              "      <th>Day</th>\n",
              "      <td>-0.018959</td>\n",
              "      <td>-0.004054</td>\n",
              "      <td>0.012589</td>\n",
              "      <td>0.002612</td>\n",
              "      <td>0.001084</td>\n",
              "      <td>-0.000905</td>\n",
              "      <td>0.026620</td>\n",
              "      <td>0.000918</td>\n",
              "      <td>0.008183</td>\n",
              "      <td>1.000000</td>\n",
              "    </tr>\n",
              "  </tbody>\n",
              "</table>\n",
              "</div>"
            ],
            "text/plain": [
              "            DailyAvgDr  DailyAvgPr  DailyAvgRe  ...      Year     Month       Day\n",
              "DailyAvgDr    1.000000   -0.097284   -0.478137  ...  0.061868  0.125739 -0.018959\n",
              "DailyAvgPr   -0.097284    1.000000    0.136290  ... -0.010956 -0.040272 -0.004054\n",
              "DailyAvgRe   -0.478137    0.136290    1.000000  ... -0.034505 -0.060914  0.012589\n",
              "DailyAvgHo    0.305932    0.241580   -0.368832  ...  0.117393 -0.087249  0.002612\n",
              "LongLat_X     0.111731    0.099250   -0.395481  ...  0.265003  0.022930  0.001084\n",
              "LongLat_Y     0.009175    0.144034   -0.320844  ... -0.216034 -0.018005 -0.000905\n",
              "FireEvent     0.099489   -0.016212   -0.148169  ...  0.064226  0.095569  0.026620\n",
              "Year          0.061868   -0.010956   -0.034505  ...  1.000000 -0.003064  0.000918\n",
              "Month         0.125739   -0.040272   -0.060914  ... -0.003064  1.000000  0.008183\n",
              "Day          -0.018959   -0.004054    0.012589  ...  0.000918  0.008183  1.000000\n",
              "\n",
              "[10 rows x 10 columns]"
            ]
          },
          "metadata": {
            "tags": []
          },
          "execution_count": 7
        }
      ]
    },
    {
      "cell_type": "code",
      "metadata": {
        "id": "X60fQ5XCdOEi",
        "outputId": "f24c319c-4eaa-4aa9-c0ca-bb94efbcfd98",
        "colab": {
          "base_uri": "https://localhost:8080/",
          "height": 350
        }
      },
      "source": [
        "f, ax = plt.subplots(figsize=(7, 5))\n",
        "sns.countplot(x='FireEvent', data=data1)\n",
        "_ = plt.title('# Fire vs NonFire')\n",
        "_ = plt.xlabel('FireEvent (1==Fire)')"
      ],
      "execution_count": null,
      "outputs": [
        {
          "output_type": "display_data",
          "data": {
            "image/png": "[encoded data removed]",
            "text/plain": [
              "<Figure size 504x360 with 1 Axes>"
            ]
          },
          "metadata": {
            "tags": [],
            "needs_background": "light"
          }
        }
      ]
    },
    {
      "cell_type": "code",
      "metadata": {
        "id": "uyCDbRCWdpXa",
        "outputId": "f1eae376-c349-449a-e29e-2845b368f360",
        "colab": {
          "base_uri": "https://localhost:8080/",
          "height": 34
        }
      },
      "source": [
        "base_line_accuracy = 1-np.sum(data1.FireEvent)/data1.shape[0]\n",
        "base_line_accuracy"
      ],
      "execution_count": null,
      "outputs": [
        {
          "output_type": "execute_result",
          "data": {
            "text/plain": [
              "0.9871747441114811"
            ]
          },
          "metadata": {
            "tags": []
          },
          "execution_count": 9
        }
      ]
    },
    {
      "cell_type": "code",
      "metadata": {
        "id": "TCMMKGmudpaD"
      },
      "source": [
        "X = data1.drop(columns='FireEvent', axis=1)\n",
        "y = data1.FireEvent.values"
      ],
      "execution_count": null,
      "outputs": []
    },
    {
      "cell_type": "code",
      "metadata": {
        "id": "OC4wcx6Fdphd",
        "outputId": "c5a1c109-f480-4bd1-bc09-d575e8148b26",
        "colab": {
          "base_uri": "https://localhost:8080/",
          "height": 602
        }
      },
      "source": [
        "corr = X.corr()\n",
        "\n",
        "mask = np.zeros_like(corr, dtype=np.bool)\n",
        "mask[np.triu_indices_from(mask)] = True\n",
        "\n",
        "cmap = sns.diverging_palette(220, 10, as_cmap=True)\n",
        "\n",
        "# Draw the heatmap with the mask and correct aspect ratio\n",
        "f, ax = plt.subplots(figsize=(11, 9))\n",
        "sns.heatmap(corr, mask=mask, cmap=cmap, vmax=.3, center=0,\n",
        "            square=True, linewidths=.5, cbar_kws={\"shrink\": .5})"
      ],
      "execution_count": null,
      "outputs": [
        {
          "output_type": "execute_result",
          "data": {
            "text/plain": [
              "<matplotlib.axes._subplots.AxesSubplot at 0x7efe65aeb0b8>"
            ]
          },
          "metadata": {
            "tags": []
          },
          "execution_count": 11
        },
        {
          "output_type": "display_data",
          "data": {
            "image/png": "[encoded data removed]",
            "text/plain": [
              "<Figure size 792x648 with 2 Axes>"
            ]
          },
          "metadata": {
            "tags": [],
            "needs_background": "light"
          }
        }
      ]
    },
    {
      "cell_type": "markdown",
      "metadata": {
        "id": "5h2UouPCfIwi"
      },
      "source": [
        "Training, Validating, and Testing set\n",
        "\n",
        "First we split our data set into a train and a validation set by using the function train_test_split. The model performace\n"
      ]
    },
    {
      "cell_type": "code",
      "metadata": {
        "id": "1rED0-SFdpng"
      },
      "source": [
        "np.random.seed(42)\n",
        "X_train, X_test, y_train, y_test = train_test_split(X, y,test_size=.20,random_state=5)\n"
      ],
      "execution_count": null,
      "outputs": []
    },
    {
      "cell_type": "code",
      "metadata": {
        "id": "1yOyY30Kdpqd"
      },
      "source": [
        "scaler = StandardScaler()\n",
        "lr = LogisticRegression()\n",
        "model1 = Pipeline([('standardize', scaler),\n",
        "                    ('log_reg', lr)])"
      ],
      "execution_count": null,
      "outputs": []
    },
    {
      "cell_type": "code",
      "metadata": {
        "id": "GLmwHTD5dptY",
        "outputId": "7a686823-8d00-48a4-ba94-13b65558c181",
        "colab": {
          "base_uri": "https://localhost:8080/",
          "height": 221
        }
      },
      "source": [
        "model1.fit(X_train, y_train)"
      ],
      "execution_count": null,
      "outputs": [
        {
          "output_type": "execute_result",
          "data": {
            "text/plain": [
              "Pipeline(memory=None,\n",
              "         steps=[('standardize',\n",
              "                 StandardScaler(copy=True, with_mean=True, with_std=True)),\n",
              "                ('log_reg',\n",
              "                 LogisticRegression(C=1.0, class_weight=None, dual=False,\n",
              "                                    fit_intercept=True, intercept_scaling=1,\n",
              "                                    l1_ratio=None, max_iter=100,\n",
              "                                    multi_class='auto', n_jobs=None,\n",
              "                                    penalty='l2', random_state=None,\n",
              "                                    solver='lbfgs', tol=0.0001, verbose=0,\n",
              "                                    warm_start=False))],\n",
              "         verbose=False)"
            ]
          },
          "metadata": {
            "tags": []
          },
          "execution_count": 14
        }
      ]
    },
    {
      "cell_type": "code",
      "metadata": {
        "id": "JlM__8syn5vV",
        "outputId": "24d7d6eb-c593-4b59-8331-67141b41fc0c",
        "colab": {
          "base_uri": "https://localhost:8080/",
          "height": 34
        }
      },
      "source": [
        "predicted_fire = model1.predict(X)\n",
        "mean_absolute_error(y, predicted_fire)"
      ],
      "execution_count": null,
      "outputs": [
        {
          "output_type": "execute_result",
          "data": {
            "text/plain": [
              "0.01282525588851893"
            ]
          },
          "metadata": {
            "tags": []
          },
          "execution_count": 15
        }
      ]
    },
    {
      "cell_type": "code",
      "metadata": {
        "id": "Iqgb3T0Rn-8p",
        "outputId": "b1e3f0f1-1ecf-43c4-c3bc-3d0ab6c8831c",
        "colab": {
          "base_uri": "https://localhost:8080/",
          "height": 34
        }
      },
      "source": [
        "# split data into training and validation data, for both features and target\n",
        "# The split is based on a random number generator. Supplying a numeric value to\n",
        "# the random_state argument guarantees we get the same split every time we\n",
        "# run this script.\n",
        "\n",
        "X_train, X_val, y_train, y_val = train_test_split(X, y, random_state=0)\n",
        "# Fit model\n",
        "model1.fit(X_train, y_train)\n",
        "\n",
        "# get predicted fire on validation data\n",
        "val_predictions = model1.predict(X_val)\n",
        "print(mean_absolute_error(y_val, val_predictions))"
      ],
      "execution_count": null,
      "outputs": [
        {
          "output_type": "stream",
          "text": [
            "0.011834319526627219\n"
          ],
          "name": "stdout"
        }
      ]
    },
    {
      "cell_type": "markdown",
      "metadata": {
        "id": "a4Zd9UM-i_Hr"
      },
      "source": [
        "Training score and Test score"
      ]
    },
    {
      "cell_type": "code",
      "metadata": {
        "id": "6cJttkNPdpwG",
        "outputId": "6300c1aa-5fdc-4cde-c5e7-32a527b5a205",
        "colab": {
          "base_uri": "https://localhost:8080/",
          "height": 102
        }
      },
      "source": [
        "y_train_hat = model1.predict(X_train)\n",
        "y_train_hat_probs = model1.predict_proba(X_train)[:,1]\n",
        "train_accuracy = accuracy_score(y_train, y_train_hat)*100\n",
        "train_auc_roc = roc_auc_score(y_train, y_train_hat_probs)*100\n",
        "print('Confusion matrix:\\n', confusion_matrix(y_train, y_train_hat))\n",
        "print('Training accuracy: %.4f %%' % train_accuracy)\n",
        "print('Training AUC: %.4f %%' % train_auc_roc)"
      ],
      "execution_count": null,
      "outputs": [
        {
          "output_type": "stream",
          "text": [
            "Confusion matrix:\n",
            " [[6001    0]\n",
            " [  80    0]]\n",
            "Training accuracy: 98.6844 %\n",
            "Training AUC: 91.4493 %\n"
          ],
          "name": "stdout"
        }
      ]
    },
    {
      "cell_type": "code",
      "metadata": {
        "id": "Yfbu5yDRdpzC",
        "outputId": "e80eaafe-eba7-443d-c357-d2115c54e70b",
        "colab": {
          "base_uri": "https://localhost:8080/",
          "height": 102
        }
      },
      "source": [
        "y_test_hat = model1.predict(X_test)\n",
        "y_test_hat_probs = model1.predict_proba(X_test)[:,1]\n",
        "test_accuracy = accuracy_score(y_test, y_test_hat)*100\n",
        "test_auc_roc = roc_auc_score(y_test, y_test_hat_probs)*100\n",
        "print('Confusion matrix:\\n', confusion_matrix(y_test, y_test_hat))\n",
        "print('Testing accuracy: %.4f %%' % test_accuracy)\n",
        "print('Testing AUC: %.4f %%' % test_auc_roc)"
      ],
      "execution_count": null,
      "outputs": [
        {
          "output_type": "stream",
          "text": [
            "Confusion matrix:\n",
            " [[1598    0]\n",
            " [  24    0]]\n",
            "Testing accuracy: 98.5203 %\n",
            "Testing AUC: 92.6210 %\n"
          ],
          "name": "stdout"
        }
      ]
    },
    {
      "cell_type": "code",
      "metadata": {
        "id": "otsdNiyfdp1l",
        "outputId": "db9489a5-66f0-4b6f-b737-9269cbfdc44d",
        "colab": {
          "base_uri": "https://localhost:8080/",
          "height": 224
        }
      },
      "source": [
        "print(classification_report(y_test, y_test_hat, digits=6))"
      ],
      "execution_count": null,
      "outputs": [
        {
          "output_type": "stream",
          "text": [
            "              precision    recall  f1-score   support\n",
            "\n",
            "           0   0.985203  1.000000  0.992547      1598\n",
            "           1   0.000000  0.000000  0.000000        24\n",
            "\n",
            "    accuracy                       0.985203      1622\n",
            "   macro avg   0.492602  0.500000  0.496273      1622\n",
            "weighted avg   0.970626  0.985203  0.977860      1622\n",
            "\n"
          ],
          "name": "stdout"
        },
        {
          "output_type": "stream",
          "text": [
            "/usr/local/lib/python3.6/dist-packages/sklearn/metrics/_classification.py:1272: UndefinedMetricWarning: Precision and F-score are ill-defined and being set to 0.0 in labels with no predicted samples. Use `zero_division` parameter to control this behavior.\n",
            "  _warn_prf(average, modifier, msg_start, len(result))\n"
          ],
          "name": "stderr"
        }
      ]
    },
    {
      "cell_type": "code",
      "metadata": {
        "id": "c8iY5v8udp4x",
        "outputId": "dad9ef66-55a2-4ab5-c5b9-56ce5e189fe8",
        "colab": {
          "base_uri": "https://localhost:8080/",
          "height": 403
        }
      },
      "source": [
        "fpr, tpr, thresholds = roc_curve(y_test, y_test_hat_probs, drop_intermediate=True)\n",
        "\n",
        "f, ax = plt.subplots(figsize=(9, 6))\n",
        "_ = plt.plot(fpr, tpr, [0,1], [0, 1])\n",
        "_ = plt.title('AUC ROC')\n",
        "_ = plt.xlabel('False positive rate')\n",
        "_ = plt.ylabel('True positive rate')\n",
        "plt.style.use('seaborn')\n",
        "\n",
        "plt.savefig('auc_roc.png', dpi=600)"
      ],
      "execution_count": null,
      "outputs": [
        {
          "output_type": "display_data",
          "data": {
            "image/png": "[encoded data removed]",
            "text/plain": [
              "<Figure size 648x432 with 1 Axes>"
            ]
          },
          "metadata": {
            "tags": [],
            "needs_background": "light"
          }
        }
      ]
    },
    {
      "cell_type": "code",
      "metadata": {
        "id": "3iQKv3Nkdp7R",
        "outputId": "858caf60-ba1c-4f62-e559-53b99d850575",
        "colab": {
          "base_uri": "https://localhost:8080/",
          "height": 275
        }
      },
      "source": [
        "y_hat_90 = (y_test_hat_probs > 0.90 )*1\n",
        "print('Confusion matrix:\\n', confusion_matrix(y_test, y_hat_90))\n",
        "print(classification_report(y_test, y_hat_90, digits=6))"
      ],
      "execution_count": null,
      "outputs": [
        {
          "output_type": "stream",
          "text": [
            "Confusion matrix:\n",
            " [[1598    0]\n",
            " [  24    0]]\n",
            "              precision    recall  f1-score   support\n",
            "\n",
            "           0   0.985203  1.000000  0.992547      1598\n",
            "           1   0.000000  0.000000  0.000000        24\n",
            "\n",
            "    accuracy                       0.985203      1622\n",
            "   macro avg   0.492602  0.500000  0.496273      1622\n",
            "weighted avg   0.970626  0.985203  0.977860      1622\n",
            "\n"
          ],
          "name": "stdout"
        },
        {
          "output_type": "stream",
          "text": [
            "/usr/local/lib/python3.6/dist-packages/sklearn/metrics/_classification.py:1272: UndefinedMetricWarning: Precision and F-score are ill-defined and being set to 0.0 in labels with no predicted samples. Use `zero_division` parameter to control this behavior.\n",
            "  _warn_prf(average, modifier, msg_start, len(result))\n"
          ],
          "name": "stderr"
        }
      ]
    },
    {
      "cell_type": "code",
      "metadata": {
        "id": "AXdlcMlNkIvD",
        "outputId": "54738b9e-c649-4ea2-b218-67df1e721837",
        "colab": {
          "base_uri": "https://localhost:8080/",
          "height": 221
        }
      },
      "source": [
        "y_hat_10 = (y_test_hat_probs > 0.10)*1\n",
        "print('Confusion matrix:\\n', confusion_matrix(y_test, y_hat_10))\n",
        "print(classification_report(y_test, y_hat_10, digits=4))"
      ],
      "execution_count": null,
      "outputs": [
        {
          "output_type": "stream",
          "text": [
            "Confusion matrix:\n",
            " [[1575   23]\n",
            " [  14   10]]\n",
            "              precision    recall  f1-score   support\n",
            "\n",
            "           0     0.9912    0.9856    0.9884      1598\n",
            "           1     0.3030    0.4167    0.3509        24\n",
            "\n",
            "    accuracy                         0.9772      1622\n",
            "   macro avg     0.6471    0.7011    0.6696      1622\n",
            "weighted avg     0.9810    0.9772    0.9790      1622\n",
            "\n"
          ],
          "name": "stdout"
        }
      ]
    },
    {
      "cell_type": "code",
      "metadata": {
        "id": "jcy6GMGzkI7k"
      },
      "source": [
        ""
      ],
      "execution_count": null,
      "outputs": []
    }
  ]
}